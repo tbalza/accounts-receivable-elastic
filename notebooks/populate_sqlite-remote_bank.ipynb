{
 "cells": [
  {
   "cell_type": "code",
   "execution_count": 2,
   "id": "90c7c92d-912f-4bcf-ab55-5b01d4b9316f",
   "metadata": {},
   "outputs": [
    {
     "name": "stdout",
     "output_type": "stream",
     "text": [
      "Database initialized and data imported successfully.\n"
     ]
    }
   ],
   "source": [
    "import os\n",
    "import sqlite3\n",
    "import pandas as pd\n",
    "\n",
    "def initialize_database_remote():\n",
    "    # Define the path to the SQLite database within the Docker container (see databases in `volumes` in docker-compose.yaml)\n",
    "    data_directory = 'databases'\n",
    "    db_path_remote_bank = os.path.join(data_directory, 'remote_bank.db')\n",
    "\n",
    "    # Ensure the data directory exists\n",
    "    if not os.path.exists(data_directory):\n",
    "        os.makedirs(data_directory)\n",
    "\n",
    "    # Connect to the SQLite database (this will create it if it does not exist)\n",
    "    conn = sqlite3.connect(db_path_remote_bank)\n",
    "\n",
    "    # Define bank column data types, assuming 'date' is already properly formatted\n",
    "    dtype_remote_bank = {\n",
    "        'id': int,\n",
    "        'date': str,  # Handling date as string if already in 'YYYY-MM-DD' format\n",
    "        'type': str,\n",
    "        'sender': str,\n",
    "        'description': str,\n",
    "        'amount': float\n",
    "    }\n",
    "    \n",
    "    # Read data from CSV files located in the /home/jovyan/notebooks/csv directory\n",
    "    df_remote_bank = pd.read_csv('csv/04-remote_bank.csv', dtype=dtype_remote_bank, usecols=list(dtype_remote_bank.keys()))\n",
    "    \n",
    "    # Import data into SQLite, creating tables for each set of data\n",
    "    df_remote_bank.to_sql('bank_remote', conn, if_exists='replace', index=False)\n",
    "    \n",
    "    # Close the connection to the database\n",
    "    conn.close()\n",
    "    \n",
    "    print(\"Database initialized and data imported successfully.\")\n",
    "\n",
    "# Run the function to initialize the database\n",
    "if __name__ == '__main__':\n",
    "    initialize_database_remote()"
   ]
  },
  {
   "cell_type": "code",
   "execution_count": 5,
   "id": "c2bde9f1-c678-41e4-89e3-bb13419419a4",
   "metadata": {},
   "outputs": [
    {
     "name": "stdout",
     "output_type": "stream",
     "text": [
      "Tables in the database: [('bank_remote',)]\n",
      "First few rows from bank_remote:\n",
      "         id      date                   type       sender         description  \\\n",
      "0  10000002  13/01/22  direct debit received    Acme Inc.    Gaven Ariana 4 8   \n",
      "1  10000007  22/02/22        Expense payment         None                None   \n",
      "2  10000001  27/02/22  rejected direct debit  Witch Foods  Globex Corporation   \n",
      "3  10000006  13/03/22      transfer received         None               33129   \n",
      "4  10000005  25/04/22  direct debit received    Acme Inc.                 Bob   \n",
      "\n",
      "   amount  \n",
      "0  386.13  \n",
      "1 -434.58  \n",
      "2 -223.16  \n",
      "3  856.76  \n",
      "4  581.58  \n",
      "\n",
      "\n"
     ]
    }
   ],
   "source": [
    "import sqlite3\n",
    "import pandas as pd\n",
    "\n",
    "def check_database():\n",
    "    # Path to the SQLite database\n",
    "    db_path_remote_bank = 'databases/remote_bank.db'\n",
    "\n",
    "    # Connect to the SQLite database\n",
    "    conn = sqlite3.connect(db_path_remote_bank)\n",
    "\n",
    "    # Create a cursor object using the cursor() method\n",
    "    cursor = conn.cursor()\n",
    "\n",
    "    # Check tables in the database\n",
    "    cursor.execute(\"SELECT name FROM sqlite_master WHERE type='table';\")\n",
    "    tables = cursor.fetchall()\n",
    "    print(\"Tables in the database:\", tables)\n",
    "\n",
    "    # Fetch and print the first few rows from each table to check\n",
    "    for table_name in tables:\n",
    "        table_name = table_name[0]  # table_name is a tuple\n",
    "        query = f\"SELECT * FROM {table_name} LIMIT 5;\"\n",
    "        df = pd.read_sql_query(query, conn)\n",
    "        print(f\"First few rows from {table_name}:\")\n",
    "        print(df)\n",
    "        print(\"\\n\")  # Print a newline for better separation between tables\n",
    "\n",
    "    # Close the connection\n",
    "    conn.close()\n",
    "\n",
    "# Run the function\n",
    "if __name__ == '__main__':\n",
    "    check_database()"
   ]
  }
 ],
 "metadata": {
  "kernelspec": {
   "display_name": "Python 3 (ipykernel)",
   "language": "python",
   "name": "python3"
  },
  "language_info": {
   "codemirror_mode": {
    "name": "ipython",
    "version": 3
   },
   "file_extension": ".py",
   "mimetype": "text/x-python",
   "name": "python",
   "nbconvert_exporter": "python",
   "pygments_lexer": "ipython3",
   "version": "3.11.10"
  }
 },
 "nbformat": 4,
 "nbformat_minor": 5
}
